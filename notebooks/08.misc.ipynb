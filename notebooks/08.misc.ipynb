{
 "cells": [
  {
   "cell_type": "markdown",
   "metadata": {},
   "source": [
    "[![Open In Colab](https://colab.research.google.com/assets/colab-badge.svg)](https://colab.research.google.com/github/deepmipt/dialog_flow_tutorialsnotebooks/08.misc.ipynb)"
   ]
  },
  {
   "cell_type": "code",
   "execution_count": null,
   "metadata": {},
   "outputs": [],
   "source": [
    "# !pip install df_engine df_runner df_db_connector df_telegram_connector"
   ]
  },
  {
   "cell_type": "markdown",
   "metadata": {},
   "source": [
    "<img src=\"https://raw.githubusercontent.com/kudep/RDLS_images/bba12c082827415f7d3e1ab09dfb94d68415be93/dfe_examples/script_structire.svg\" >\n",
    "<img src=\"https://raw.githubusercontent.com/kudep/RDLS_images/bba12c082827415f7d3e1ab09dfb94d68415be93/dfe_examples/node_sructire.svg\" >"
   ]
  },
  {
   "cell_type": "code",
   "execution_count": null,
   "metadata": {},
   "outputs": [],
   "source": [
    "from typing import Any\n",
    "from df_engine.core import Actor, Context\n",
    "import df_engine.labels as lbl\n",
    "\n",
    "def response_handler(ctx: Context, actor: Actor, *args, **kwargs) -> bool:\n",
    "    return f\"answer {len(ctx.requests)}\"\n",
    "\n",
    "\n",
    "# a dialog script\n",
    "\n",
    "def create_transitions():\n",
    "    return {\n",
    "        (\"left\", \"step_2\"): \"left\",\n",
    "        (\"right\", \"step_2\"): \"right\",\n",
    "        lbl.previous(): \"previous\",\n",
    "        lbl.to_start(): \"start\",\n",
    "        lbl.forward(): \"forward\",\n",
    "        lbl.backward(): \"back\",\n",
    "        lbl.previous(): \"previous\",\n",
    "        lbl.repeat(): \"repeat\",\n",
    "        lbl.to_fallback(): cnd.true(),\n",
    "    }\n",
    "\n",
    "\n",
    "def custom_response(ctx: Context, actor: Actor, *args, **kwargs) -> Any:\n",
    "    if ctx.validation:\n",
    "        return \"\"\n",
    "    current_node = ctx.current_node\n",
    "    return f\"ctx.last_label={ctx.last_label}: current_node.misc={current_node.misc}\"\n",
    "\n"
   ]
  },
  {
   "cell_type": "code",
   "execution_count": null,
   "metadata": {},
   "outputs": [],
   "source": [
    "# imports\n",
    "from df_engine.core.keywords import GLOBAL, LOCAL, RESPONSE\n",
    "from df_engine.core.keywords import TRANSITIONS, MISC\n",
    "import df_engine.conditions as cnd\n",
    "# a dialog script\n",
    "script = {\n",
    "    \"root\": {\n",
    "        \"start\": {RESPONSE: \"\", TRANSITIONS: {(\"flow\", \"step_0\"): cnd.true()}},\n",
    "        \"fallback\": {RESPONSE: \"the end\"},\n",
    "    },\n",
    "    GLOBAL: {\n",
    "        MISC: {\n",
    "            \"var1\": \"global_data\",\n",
    "            \"var2\": \"global_data\",\n",
    "            \"var3\": \"global_data\",\n",
    "        }\n",
    "    },\n",
    "    \"flow\": {\n",
    "        LOCAL: {\n",
    "            MISC: {\n",
    "                \"var2\": \"rewrite_by_local\",\n",
    "                \"var3\": \"rewrite_by_local\",\n",
    "            }\n",
    "        },\n",
    "        \"step_0\": {\n",
    "            MISC: {\"var3\": \"info_of_step_0\"},\n",
    "            RESPONSE: custom_response,\n",
    "            TRANSITIONS: {lbl.forward(): cnd.true()},\n",
    "        },\n",
    "        \"step_1\": {\n",
    "            MISC: {\"var3\": \"info_of_step_1\"},\n",
    "            RESPONSE: custom_response,\n",
    "            TRANSITIONS: {lbl.forward(): cnd.true()},\n",
    "        },\n",
    "        \"step_2\": {\n",
    "            MISC: {\"var3\": \"info_of_step_2\"},\n",
    "            RESPONSE: custom_response,\n",
    "            TRANSITIONS: {lbl.forward(): cnd.true()},\n",
    "        },\n",
    "        \"step_3\": {\n",
    "            MISC: {\"var3\": \"info_of_step_3\"},\n",
    "            RESPONSE: custom_response,\n",
    "            TRANSITIONS: {lbl.forward(): cnd.true()},\n",
    "        },\n",
    "        \"step_4\": {MISC: {\"var3\": \"info_of_step_4\"}, RESPONSE: custom_response, TRANSITIONS: {\"step_0\": cnd.true()}},\n",
    "    },\n",
    "}"
   ]
  },
  {
   "cell_type": "code",
   "execution_count": null,
   "metadata": {},
   "outputs": [],
   "source": [
    "from df_runner import Pipeline\n",
    "\n",
    "pipeline = Pipeline.from_script(\n",
    "    script,\n",
    "    start_label=(\"root\", \"start\"),\n",
    "    fallback_label=(\"root\", \"fallback\"),\n",
    ")"
   ]
  },
  {
   "cell_type": "code",
   "execution_count": null,
   "metadata": {},
   "outputs": [],
   "source": [
    "pipeline.start_sync()"
   ]
  }
 ],
 "metadata": {
  "interpreter": {
   "hash": "b1b6b32d33597829d61f85157c5aed5772f959c19090697c514061944c72115f"
  },
  "kernelspec": {
   "display_name": "Python 3 (ipykernel)",
   "language": "python",
   "name": "python3"
  },
  "language_info": {
   "codemirror_mode": {
    "name": "ipython",
    "version": 3
   },
   "file_extension": ".py",
   "mimetype": "text/x-python",
   "name": "python",
   "nbconvert_exporter": "python",
   "pygments_lexer": "ipython3",
   "version": "3.10.5"
  }
 },
 "nbformat": 4,
 "nbformat_minor": 4
}
