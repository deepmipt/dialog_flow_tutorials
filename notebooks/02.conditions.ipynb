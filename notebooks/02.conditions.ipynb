{
 "cells": [
  {
   "cell_type": "markdown",
   "metadata": {},
   "source": [
    "[![Open In Colab](https://colab.research.google.com/assets/colab-badge.svg)](https://colab.research.google.com/github/deepmipt/dialog_flow_tutorialsnotebooks/02.conditions.ipynb)"
   ]
  },
  {
   "cell_type": "code",
   "execution_count": null,
   "metadata": {},
   "outputs": [],
   "source": [
    "# !pip install df_engine df_runner df_db_connector df_telegram_connector"
   ]
  },
  {
   "cell_type": "markdown",
   "metadata": {},
   "source": [
    "<img src=\"https://raw.githubusercontent.com/kudep/RDLS_images/bba12c082827415f7d3e1ab09dfb94d68415be93/dfe_examples/script_structire.svg\" >\n",
    "<img src=\"https://raw.githubusercontent.com/kudep/RDLS_images/bba12c082827415f7d3e1ab09dfb94d68415be93/dfe_examples/node_sructire.svg\" >"
   ]
  },
  {
   "cell_type": "markdown",
   "metadata": {},
   "source": [
    "## Short description\n",
    "Here we will consider different options for setting transition conditions.\n",
    "\n",
    "The transition condition is set by the function.\n",
    "If the function returns the value `true`, then the actor performs the corresponding transition.\n",
    "Condition functions have signature ```def func(ctx: Context, actor: Actor, *args, **kwargs) -> bool```\n",
    "\n",
    "Out of the box, df_engine offers 8 options for setting conditions:\n",
    "- `exact_match` - will return `true` if the user's request completely matches the value passed to the function.\n",
    "- `regexp` - will return `true` if the pattern matches the user's request, while the user's request must be a string.\n",
    "-            `regexp` has same signature as `re.compile` function.\n",
    "- `aggregate` - returns bool value as result after aggregate by `aggregate_func` for input sequence of condtions.\n",
    "             `aggregate_func` == any by default\n",
    "             `aggregate` has alias `agg`\n",
    "- `any` - will return `true` if an one element of  input sequence of condtions is `true`\n",
    "          any(input_sequence) is equivalent to aggregate(input sequence, aggregate_func=any)\n",
    "- `all` - will return `true` if all elements of  input sequence of condtions are `true`\n",
    "          all(input_sequence) is equivalent to aggregate(input sequence, aggregate_func=all)\n",
    "- `negation` - return a negation of passed function\n",
    "             `negation` has alias `neg`\n",
    "- `has_last_labels` - covered in the following examples.\n",
    "- `true` - returns true\n",
    "- `false` - returns false"
   ]
  },
  {
   "cell_type": "code",
   "execution_count": null,
   "metadata": {},
   "outputs": [],
   "source": [
    "from df_engine.core import Actor, Context\n",
    "\n",
    "def hi_lower_case_condition(ctx: Context, actor: Actor, *args, **kwargs) -> bool:\n",
    "    request = ctx.last_request\n",
    "    return \"hi\" in request.lower()\n",
    "\n",
    "\n",
    "def complex_user_answer_condition(ctx: Context, actor: Actor, *args, **kwargs) -> bool:\n",
    "    request = ctx.last_request\n",
    "    # the user request can be anything\n",
    "    return {\"some_key\": \"some_value\"} == request\n",
    "\n",
    "\n",
    "def predetermined_condition(condition: bool):\n",
    "    # wrapper for internal condition function\n",
    "    def internal_condition_function(ctx: Context, actor: Actor, *args, **kwargs) -> bool:\n",
    "        # It always returns `condition`.\n",
    "        return condition\n",
    "\n",
    "    return internal_condition_function"
   ]
  },
  {
   "cell_type": "code",
   "execution_count": null,
   "metadata": {},
   "outputs": [],
   "source": [
    "# imports\n",
    "from df_engine.core.keywords import TRANSITIONS, RESPONSE\n",
    "import df_engine.conditions as cnd\n",
    "import re\n",
    "\n",
    "\n",
    "script = {\n",
    "    \"greeting_flow\": {\n",
    "        \"start_node\": {  # This is an initial node, it doesn't need an `RESPONSE`\n",
    "            RESPONSE: \"\",\n",
    "            TRANSITIONS: {\"node1\": cnd.exact_match(\"Hi\")},  # If \"Hi\" == request of user then we make the transition\n",
    "        },\n",
    "        \"node1\": {\n",
    "            RESPONSE: [\"Hi, how are you?\"],\n",
    "            TRANSITIONS: {\"node2\": cnd.regexp(r\".*how are you\", re.IGNORECASE)},  # pattern matching (precompiled)\n",
    "        },\n",
    "        \"node2\": {\n",
    "            RESPONSE: \"Good. What do you want to talk about?\",\n",
    "            TRANSITIONS: {\"node3\": cnd.all([cnd.regexp(r\"talk\"), cnd.regexp(r\"about.*music\")])},\n",
    "            # mix sequence of condtions by cond.all\n",
    "            # all is alias `aggregate` with `aggregate_func` == `all`\n",
    "        },\n",
    "        \"node3\": {\n",
    "            RESPONSE: \"Sorry, I can not talk about music now.\",\n",
    "            TRANSITIONS: {\"node4\": cnd.regexp(re.compile(r\"Ok, goodbye.\"))},  # pattern matching by precompiled pattern\n",
    "        },\n",
    "        \"node4\": {\n",
    "            RESPONSE: \"bye\",\n",
    "            TRANSITIONS: {\"node1\": cnd.any([hi_lower_case_condition, cnd.exact_match(\"hello\")])},\n",
    "            # mix sequence of condtions by cond.any\n",
    "            # any is alias `aggregate` with `aggregate_func` == `any`\n",
    "        },\n",
    "        \"fallback_node\": {  # We get to this node if an error occurred while the agent was running\n",
    "            RESPONSE: \"Ooops\",\n",
    "            TRANSITIONS: {\n",
    "                \"node1\": complex_user_answer_condition,  # the user request can be more than just a string\n",
    "                # first we will chech returned value of `complex_user_answer_condition`\n",
    "                # if the value is True then we will go to `node1`\n",
    "                # if the value is False then\n",
    "                # we will check a result of `predetermined_condition(True)` for `fallback_node`\n",
    "                \"fallback_node\": predetermined_condition(True),  # or you can use cnd.true()\n",
    "                # last condition function will return true and will repeat fallback_node\n",
    "                # if complex_user_answer_condition return false\n",
    "            },\n",
    "        },\n",
    "    }\n",
    "}"
   ]
  },
  {
   "cell_type": "code",
   "execution_count": null,
   "metadata": {},
   "outputs": [],
   "source": [
    "from df_runner import Pipeline\n",
    "\n",
    "pipeline = Pipeline.from_script(\n",
    "    script,\n",
    "    start_label=(\"greeting_flow\", \"start_node\"),\n",
    "    fallback_label=(\"greeting_flow\", \"fallback_node\"),\n",
    ")"
   ]
  },
  {
   "cell_type": "code",
   "execution_count": null,
   "metadata": {},
   "outputs": [],
   "source": [
    "pipeline.start_sync()"
   ]
  }
 ],
 "metadata": {
  "interpreter": {
   "hash": "b1b6b32d33597829d61f85157c5aed5772f959c19090697c514061944c72115f"
  },
  "kernelspec": {
   "display_name": "Python 3 (ipykernel)",
   "language": "python",
   "name": "python3"
  },
  "language_info": {
   "codemirror_mode": {
    "name": "ipython",
    "version": 3
   },
   "file_extension": ".py",
   "mimetype": "text/x-python",
   "name": "python",
   "nbconvert_exporter": "python",
   "pygments_lexer": "ipython3",
   "version": "3.10.5"
  }
 },
 "nbformat": 4,
 "nbformat_minor": 4
}
