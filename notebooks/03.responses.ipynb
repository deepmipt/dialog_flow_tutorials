{
 "cells": [
  {
   "cell_type": "markdown",
   "metadata": {},
   "source": [
    "[![Open In Colab](https://colab.research.google.com/assets/colab-badge.svg)](https://colab.research.google.com/github/deepmipt/dialog_flow_tutorialsnotebooks/03.responses.ipynb)"
   ]
  },
  {
   "cell_type": "code",
   "execution_count": null,
   "metadata": {},
   "outputs": [],
   "source": [
    "# !pip install df_engine df_runner df_db_connector df_telegram_connector"
   ]
  },
  {
   "cell_type": "markdown",
   "metadata": {},
   "source": [
    "<img src=\"https://raw.githubusercontent.com/kudep/RDLS_images/bba12c082827415f7d3e1ab09dfb94d68415be93/dfe_examples/script_structire.svg\" >\n",
    "<img src=\"https://raw.githubusercontent.com/kudep/RDLS_images/bba12c082827415f7d3e1ab09dfb94d68415be93/dfe_examples/node_sructire.svg\" >"
   ]
  },
  {
   "cell_type": "markdown",
   "metadata": {},
   "source": [
    "## Short description\n",
    "Here we will consider different options for setting responses.\n",
    "\n",
    "The response is set by any object of python:\n",
    "\n",
    "- collable objects - If the object is callable, then it must have a special signature:\n",
    "                     func`(ctx: Context, actor: Actor, *args, **kwargs) -> Any`\n",
    "                     Then this object will be called with the appropriate arguments.\n",
    "\n",
    "- non-callable objects - If the object is not callable,\n",
    "                         then the object will be returned by the agent as a response.\n",
    "\n",
    "\n",
    "Out of the box, df_engine offers 1 additional response function:\n",
    "- `choice` - will return `true` if the user's request completely matches the value passed to the function."
   ]
  },
  {
   "cell_type": "code",
   "execution_count": null,
   "metadata": {},
   "outputs": [],
   "source": [
    "from df_engine.core import Actor, Context\n",
    "from typing import Any\n",
    "\n",
    "def cannot_talk_about_topic_response(ctx: Context, actor: Actor, *args, **kwargs) -> Any:\n",
    "    request = ctx.last_request\n",
    "    topic_pattern = re.compile(r\"(.*talk about )(.*)\\.\")\n",
    "    topic = topic_pattern.findall(request)\n",
    "    topic = topic and topic[0] and topic[0][-1]\n",
    "    if topic:\n",
    "        return f\"Sorry, I can not talk about {topic} now.\"\n",
    "    else:\n",
    "        return \"Sorry, I can not talk about that now.\"\n",
    "\n",
    "\n",
    "def upper_case_response(response: str):\n",
    "    # wrapper for internal response function\n",
    "    def cannot_talk_about_topic_response(ctx: Context, actor: Actor, *args, **kwargs) -> Any:\n",
    "        return response.upper()\n",
    "\n",
    "    return cannot_talk_about_topic_response\n",
    "\n",
    "\n",
    "def fallback_trace_response(ctx: Context, actor: Actor, *args, **kwargs) -> Any:\n",
    "    return {\"previous_node\": list(ctx.labels.values())[-2], \"last_request\": ctx.last_request}"
   ]
  },
  {
   "cell_type": "code",
   "execution_count": null,
   "metadata": {},
   "outputs": [],
   "source": [
    "# imports\n",
    "from df_engine.core.keywords import TRANSITIONS, RESPONSE\n",
    "import df_engine.conditions as cnd\n",
    "import df_engine.responses as rsp\n",
    "import re\n",
    "script = {\n",
    "    \"greeting_flow\": {\n",
    "        \"start_node\": {  # This is an initial node, it doesn't need an `RESPONSE`\n",
    "            RESPONSE: \"\",\n",
    "            TRANSITIONS: {\"node1\": cnd.exact_match(\"Hi\")},  # If \"Hi\" == request of user then we make the transition\n",
    "        },\n",
    "        \"node1\": {\n",
    "            RESPONSE: rsp.choice([\"Hi, what is up?\", \"Hello, how are you?\"]),  # random choice from candicate list\n",
    "            TRANSITIONS: {\"node2\": cnd.exact_match(\"i'm fine, how are you?\")},\n",
    "        },\n",
    "        \"node2\": {\n",
    "            RESPONSE: \"Good. What do you want to talk about?\",\n",
    "            TRANSITIONS: {\"node3\": cnd.exact_match(\"Let's talk about music.\")},\n",
    "        },\n",
    "        \"node3\": {RESPONSE: cannot_talk_about_topic_response, TRANSITIONS: {\"node4\": cnd.exact_match(\"Ok, goodbye.\")}},\n",
    "        \"node4\": {RESPONSE: upper_case_response(\"bye\"), TRANSITIONS: {\"node1\": cnd.exact_match(\"Hi\")}},\n",
    "        \"fallback_node\": {  # We get to this node if an error occurred while the agent was running\n",
    "            RESPONSE: fallback_trace_response,\n",
    "            TRANSITIONS: {\"node1\": cnd.exact_match(\"Hi\")},\n",
    "        },\n",
    "    }\n",
    "}"
   ]
  },
  {
   "cell_type": "code",
   "execution_count": null,
   "metadata": {},
   "outputs": [],
   "source": [
    "from df_runner import Pipeline\n",
    "\n",
    "pipeline = Pipeline.from_script(\n",
    "    script,\n",
    "    start_label=(\"greeting_flow\", \"start_node\"),\n",
    "    fallback_label=(\"greeting_flow\", \"fallback_node\"),\n",
    ")"
   ]
  },
  {
   "cell_type": "code",
   "execution_count": null,
   "metadata": {},
   "outputs": [],
   "source": [
    "pipeline.start_sync()"
   ]
  }
 ],
 "metadata": {
  "interpreter": {
   "hash": "b1b6b32d33597829d61f85157c5aed5772f959c19090697c514061944c72115f"
  },
  "kernelspec": {
   "display_name": "Python 3 (ipykernel)",
   "language": "python",
   "name": "python3"
  },
  "language_info": {
   "codemirror_mode": {
    "name": "ipython",
    "version": 3
   },
   "file_extension": ".py",
   "mimetype": "text/x-python",
   "name": "python",
   "nbconvert_exporter": "python",
   "pygments_lexer": "ipython3",
   "version": "3.10.5"
  }
 },
 "nbformat": 4,
 "nbformat_minor": 4
}
