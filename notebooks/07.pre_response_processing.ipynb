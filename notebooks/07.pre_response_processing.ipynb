{
 "cells": [
  {
   "cell_type": "markdown",
   "metadata": {},
   "source": [
    "[![Open In Colab](https://colab.research.google.com/assets/colab-badge.svg)](https://colab.research.google.com/github/deepmipt/dialog_flow_tutorialsnotebooks/07.pre_response_processing.ipynb)"
   ]
  },
  {
   "cell_type": "code",
   "execution_count": null,
   "metadata": {},
   "outputs": [],
   "source": [
    "# !pip install df_engine df_runner df_db_connector df_telegram_connector"
   ]
  },
  {
   "cell_type": "markdown",
   "metadata": {},
   "source": [
    "<img src=\"https://raw.githubusercontent.com/kudep/RDLS_images/bba12c082827415f7d3e1ab09dfb94d68415be93/dfe_examples/script_structire.svg\" >\n",
    "<img src=\"https://raw.githubusercontent.com/kudep/RDLS_images/bba12c082827415f7d3e1ab09dfb94d68415be93/dfe_examples/node_sructire.svg\" >"
   ]
  },
  {
   "cell_type": "code",
   "execution_count": null,
   "metadata": {},
   "outputs": [],
   "source": [
    "from df_engine.core import Actor, Context\n",
    "import df_engine.labels as lbl\n",
    "\n",
    "\n",
    "def print_function_response(argument: str):\n",
    "    def response(ctx: Context, actor: Actor, *args, **kwargs):\n",
    "        return argument\n",
    "\n",
    "    return response\n",
    "\n",
    "\n",
    "def create_transitions():\n",
    "    return {\n",
    "        (\"left\", \"step_2\"): \"left\",\n",
    "        (\"right\", \"step_2\"): \"right\",\n",
    "        lbl.to_start(): \"start\",  # to start node\n",
    "        lbl.forward(): \"forward\",  # to next node in dict\n",
    "        lbl.backward(): \"back\",  # to previous node in dict\n",
    "        lbl.previous(): \"previous\",  # to previously visited node\n",
    "        lbl.repeat(): \"repeat\",  # to the same node\n",
    "        lbl.to_fallback(): cnd.true(),  # to fallback node\n",
    "    }\n",
    "\n",
    "\n",
    "def add_prefix(prefix):\n",
    "    def add_prefix_processing(ctx: Context, actor: Actor, *args, **kwargs) -> Context:\n",
    "        processed_node = ctx.current_node\n",
    "        if not callable(processed_node.response):\n",
    "            processed_node.response = f\"{prefix}: {processed_node.response}\"\n",
    "        elif callable(processed_node.response):\n",
    "            processed_node.response = f\"{prefix}: {processed_node.response(ctx, actor, *args, **kwargs)}\"\n",
    "        ctx.overwrite_current_node_in_processing(processed_node)\n",
    "        return ctx\n",
    "\n",
    "    return add_prefix_processing"
   ]
  },
  {
   "cell_type": "code",
   "execution_count": null,
   "metadata": {},
   "outputs": [],
   "source": [
    "# imports\n",
    "from df_engine.core.keywords import GLOBAL, LOCAL, RESPONSE\n",
    "from df_engine.core.keywords import TRANSITIONS, PRE_RESPONSE_PROCESSING\n",
    "import df_engine.conditions as cnd\n",
    "\n",
    "def response_handler(ctx: Context, actor: Actor, *args, **kwargs) -> bool:\n",
    "    return f\"answer {len(ctx.requests)}\"\n",
    "\n",
    "\n",
    "# a dialog script\n",
    "script = {\n",
    "    \"root\": {\n",
    "        \"start\": {RESPONSE: \"\", TRANSITIONS: {(\"flow\", \"step_0\"): cnd.true()}},\n",
    "        \"fallback\": {RESPONSE: \"the end\"},\n",
    "    },\n",
    "    GLOBAL: {\n",
    "        PRE_RESPONSE_PROCESSING: {\n",
    "            \"proc_name_1\": add_prefix(\"l1_global\"),\n",
    "            \"proc_name_2\": add_prefix(\"l2_global\"),\n",
    "        }\n",
    "    },\n",
    "    \"flow\": {\n",
    "        LOCAL: {\n",
    "            PRE_RESPONSE_PROCESSING: {\n",
    "                \"proc_name_2\": add_prefix(\"l2_local\"),\n",
    "                \"proc_name_3\": add_prefix(\"l3_local\"),\n",
    "            }\n",
    "        },\n",
    "        \"step_0\": {\n",
    "            RESPONSE: print_function_response(\"first\"),\n",
    "            TRANSITIONS: {lbl.forward(): cnd.true()},\n",
    "        },\n",
    "        \"step_1\": {\n",
    "            PRE_RESPONSE_PROCESSING: {\"proc_name_1\": add_prefix(\"l1_step_1\")},\n",
    "            RESPONSE: print_function_response(\"second\"),\n",
    "            TRANSITIONS: {lbl.forward(): cnd.true()},\n",
    "        },\n",
    "        \"step_2\": {\n",
    "            PRE_RESPONSE_PROCESSING: {\"proc_name_2\": add_prefix(\"l2_step_2\")},\n",
    "            RESPONSE: print_function_response(\"third\"),\n",
    "            TRANSITIONS: {lbl.forward(): cnd.true()},\n",
    "        },\n",
    "        \"step_3\": {\n",
    "            PRE_RESPONSE_PROCESSING: {\"proc_name_3\": add_prefix(\"l3_step_3\")},\n",
    "            RESPONSE: print_function_response(\"fourth\"),\n",
    "            TRANSITIONS: {lbl.forward(): cnd.true()},\n",
    "        },\n",
    "        \"step_4\": {\n",
    "            PRE_RESPONSE_PROCESSING: {\"proc_name_4\": add_prefix(\"l4_step_4\")},\n",
    "            RESPONSE: print_function_response(\"fifth\"),\n",
    "            TRANSITIONS: {\"step_0\": cnd.true()},\n",
    "        },\n",
    "    },\n",
    "}\n"
   ]
  },
  {
   "cell_type": "code",
   "execution_count": null,
   "metadata": {},
   "outputs": [],
   "source": [
    "from df_runner import Pipeline\n",
    "\n",
    "pipeline = Pipeline.from_script(\n",
    "    script,\n",
    "    start_label=(\"root\", \"start\"),\n",
    "    fallback_label=(\"root\", \"fallback\"),\n",
    ")"
   ]
  },
  {
   "cell_type": "code",
   "execution_count": null,
   "metadata": {},
   "outputs": [],
   "source": [
    "pipeline.start_sync()"
   ]
  }
 ],
 "metadata": {
  "interpreter": {
   "hash": "b1b6b32d33597829d61f85157c5aed5772f959c19090697c514061944c72115f"
  },
  "kernelspec": {
   "display_name": "Python 3 (ipykernel)",
   "language": "python",
   "name": "python3"
  },
  "language_info": {
   "codemirror_mode": {
    "name": "ipython",
    "version": 3
   },
   "file_extension": ".py",
   "mimetype": "text/x-python",
   "name": "python",
   "nbconvert_exporter": "python",
   "pygments_lexer": "ipython3",
   "version": "3.10.5"
  }
 },
 "nbformat": 4,
 "nbformat_minor": 4
}
