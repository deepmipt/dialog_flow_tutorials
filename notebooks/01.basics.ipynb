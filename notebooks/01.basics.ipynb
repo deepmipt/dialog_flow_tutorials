{
 "cells": [
  {
   "cell_type": "markdown",
   "metadata": {},
   "source": [
    "[![Open In Colab](https://colab.research.google.com/assets/colab-badge.svg)](https://colab.research.google.com/github/deepmipt/dialog_flow_tutorialsnotebooks/01.basics.ipynb)"
   ]
  },
  {
   "cell_type": "code",
   "execution_count": null,
   "metadata": {},
   "outputs": [],
   "source": [
    "# !pip install df_engine df_runner df_db_connector df_telegram_connector"
   ]
  },
  {
   "cell_type": "markdown",
   "metadata": {},
   "source": [
    "<img src=\"https://raw.githubusercontent.com/kudep/RDLS_images/bba12c082827415f7d3e1ab09dfb94d68415be93/dfe_examples/script_structire.svg\" >\n",
    "<img src=\"https://raw.githubusercontent.com/kudep/RDLS_images/bba12c082827415f7d3e1ab09dfb94d68415be93/dfe_examples/node_sructire.svg\" >"
   ]
  },
  {
   "cell_type": "markdown",
   "metadata": {},
   "source": [
    "## Short description\n",
    "First of all, to create a dialog agent, we need to create a dialog script.\n",
    "Below, `script` is the dialog script.\n",
    "A dialog script is a flow dictionary that can contain multiple script .\n",
    "Script are needed in order to divide a dialog into sub-dialogs and process them separately.\n",
    "For example, the separation can be tied to the topic of the dialog.\n",
    "In our example, there is one flow called greeting_flow.\n",
    "\n",
    "Inside each flow, we can describe a sub-dialog.\n",
    "Here we can also use keyword `LOCAL`, which we have considered in other examples.\n",
    "\n",
    "Flow describes a sub-dialog using linked nodes, each node has the keywords `RESPONSE` and `TRANSITIONS`.\n",
    "\n",
    "`RESPONSE` - contains the response that the dialog agent will return when transitioning to this node.\n",
    "`TRANSITIONS` - describes transitions from the current node to other nodes.\n",
    "`TRANSITIONS` are described in pairs:\n",
    "     - the node to which the agent will perform the transition\n",
    "     - the condition under which to make the transition"
   ]
  },
  {
   "cell_type": "code",
   "execution_count": null,
   "metadata": {},
   "outputs": [],
   "source": [
    "# imports\n",
    "from df_engine.core.keywords import TRANSITIONS, RESPONSE\n",
    "import df_engine.conditions as cnd\n",
    "\n",
    "# script init\n",
    "script = {\n",
    "    \"greeting_flow\": {\n",
    "        \"start_node\": {  # This is an initial node, it doesn't need an `RESPONSE`\n",
    "            RESPONSE: \"\",\n",
    "            TRANSITIONS: {\"node1\": cnd.exact_match(\"Hi\")},  # If \"Hi\" == request of user then we make the transition\n",
    "        },\n",
    "        \"node1\": {\n",
    "            RESPONSE: \"Hi, how are you?\",  # When the agent goes to node1, we return \"Hi, how are you?\"\n",
    "            TRANSITIONS: {\"node2\": cnd.exact_match(\"i'm fine, how are you?\")},\n",
    "        },\n",
    "        \"node2\": {\n",
    "            RESPONSE: \"Good. What do you want to talk about?\",\n",
    "            TRANSITIONS: {\"node3\": cnd.exact_match(\"Let's talk about music.\")},\n",
    "        },\n",
    "        \"node3\": {\n",
    "            RESPONSE: \"Sorry, I can not talk about music now.\",\n",
    "            TRANSITIONS: {\"node4\": cnd.exact_match(\"Ok, goodbye.\")},\n",
    "        },\n",
    "        \"node4\": {RESPONSE: \"bye\", TRANSITIONS: {\"node1\": cnd.exact_match(\"Hi\")}},\n",
    "        \"fallback_node\": {  # We get to this node if an error occurred while the agent was running\n",
    "            RESPONSE: \"Ooops\",\n",
    "            TRANSITIONS: {\"node1\": cnd.exact_match(\"Hi\")},\n",
    "        },\n",
    "    }\n",
    "}"
   ]
  },
  {
   "cell_type": "markdown",
   "metadata": {},
   "source": [
    "<center><img src=\"https://raw.githubusercontent.com/kudep/RDLS_images/ae2d4ef5645e17e9cd28ba9341da0242c786024a/dfe_examples/example_basics.svg\" width=\"400\" height=\"400\"> </center>"
   ]
  },
  {
   "cell_type": "code",
   "execution_count": null,
   "metadata": {},
   "outputs": [],
   "source": [
    "from df_runner import Pipeline\n",
    "\n",
    "pipeline = Pipeline.from_script(\n",
    "    script,\n",
    "    start_label=(\"greeting_flow\", \"start_node\"),\n",
    "    fallback_label=(\"greeting_flow\", \"fallback_node\"),\n",
    ")"
   ]
  },
  {
   "cell_type": "code",
   "execution_count": null,
   "metadata": {},
   "outputs": [],
   "source": [
    "from df_engine.core import Context\n",
    "ctx: Context = pipeline(\"Hi\")\n",
    "ctx.last_response"
   ]
  },
  {
   "cell_type": "code",
   "execution_count": null,
   "metadata": {},
   "outputs": [],
   "source": [
    "pipeline.start_sync()"
   ]
  },
  {
   "cell_type": "code",
   "execution_count": null,
   "metadata": {},
   "outputs": [],
   "source": []
  }
 ],
 "metadata": {
  "interpreter": {
   "hash": "b1b6b32d33597829d61f85157c5aed5772f959c19090697c514061944c72115f"
  },
  "kernelspec": {
   "display_name": "Python 3 (ipykernel)",
   "language": "python",
   "name": "python3"
  },
  "language_info": {
   "codemirror_mode": {
    "name": "ipython",
    "version": 3
   },
   "file_extension": ".py",
   "mimetype": "text/x-python",
   "name": "python",
   "nbconvert_exporter": "python",
   "pygments_lexer": "ipython3",
   "version": "3.10.5"
  }
 },
 "nbformat": 4,
 "nbformat_minor": 4
}
