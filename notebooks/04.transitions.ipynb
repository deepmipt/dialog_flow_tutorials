{
 "cells": [
  {
   "cell_type": "markdown",
   "metadata": {},
   "source": [
    "[![Open In Colab](https://colab.research.google.com/assets/colab-badge.svg)](https://colab.research.google.com/github/deepmipt/dialog_flow_tutorialsnotebooks/04.transitions.ipynb)"
   ]
  },
  {
   "cell_type": "code",
   "execution_count": null,
   "metadata": {},
   "outputs": [],
   "source": [
    "# !pip install df_engine df_runner df_db_connector df_telegram_connector"
   ]
  },
  {
   "cell_type": "markdown",
   "metadata": {},
   "source": [
    "<img src=\"https://raw.githubusercontent.com/kudep/RDLS_images/bba12c082827415f7d3e1ab09dfb94d68415be93/dfe_examples/script_structire.svg\" >\n",
    "<img src=\"https://raw.githubusercontent.com/kudep/RDLS_images/bba12c082827415f7d3e1ab09dfb94d68415be93/dfe_examples/node_sructire.svg\" >"
   ]
  },
  {
   "cell_type": "markdown",
   "metadata": {},
   "source": [
    "## Short description\n",
    "Transition returns tuple (flow, label, priority)\n",
    "\n",
    "We need priority to choose what condition to select.\n",
    "- In TRANSITIONS, all conditions ( values of dict) are being checked.\n",
    "- Of true conditions, condition with largest priority is executed.\n",
    "- Of true conditions with largest priority, the first-met condition in dictionary is used."
   ]
  },
  {
   "cell_type": "code",
   "execution_count": null,
   "metadata": {},
   "outputs": [],
   "source": [
    "from df_engine.core import Actor, Context\n",
    "from df_engine.core.types import NodeLabel3Type\n",
    "# def always_true_condition(ctx: Context, actor: Actor, *args, **kwargs) -> bool:\n",
    "#     return True\n",
    "\n",
    "# `always_true_condition` is same cnd.true()\n",
    "\n",
    "\n",
    "# NodeLabel3Type == tuple[str, str, float]\n",
    "def greeting_flow_n2_transition(ctx: Context, actor: Actor, *args, **kwargs) -> NodeLabel3Type:\n",
    "    return (\"greeting_flow\", \"node2\", 1.0)\n",
    "\n",
    "\n",
    "def high_priority_node_transition(flow_label, label):\n",
    "    def transition(ctx: Context, actor: Actor, *args, **kwargs) -> NodeLabel3Type:\n",
    "        return (flow_label, label, 2.0)\n",
    "\n",
    "    return transition"
   ]
  },
  {
   "cell_type": "code",
   "execution_count": null,
   "metadata": {},
   "outputs": [],
   "source": [
    "# imports\n",
    "from df_engine.core.keywords import TRANSITIONS, RESPONSE\n",
    "import df_engine.conditions as cnd\n",
    "import df_engine.labels as lbl\n",
    "import re\n",
    "script = {\n",
    "    \"global_flow\": {\n",
    "        \"start_node\": {  # This is an initial node, it doesn't need an `RESPONSE`\n",
    "            RESPONSE: \"\",\n",
    "            TRANSITIONS: {\n",
    "                (\"music_flow\", \"node1\"): cnd.regexp(r\"talk about music\"),  # first check\n",
    "                (\"greeting_flow\", \"node1\"): cnd.regexp(r\"hi|hello\", re.IGNORECASE),  # second check\n",
    "                # (\"global_flow\", \"fallback_node\"): cnd.true(),  # third check\n",
    "                \"fallback_node\": cnd.true(),  # third check\n",
    "                # \"fallback_node\" is equivalent to (\"global_flow\", \"fallback_node\")\n",
    "            },\n",
    "        },\n",
    "        \"fallback_node\": {  # We get to this node if an error occurred while the agent was running\n",
    "            RESPONSE: \"Ooops\",\n",
    "            TRANSITIONS: {\n",
    "                (\"music_flow\", \"node1\"): cnd.regexp(r\"talk about music\"),  # first check\n",
    "                (\"greeting_flow\", \"node1\"): cnd.regexp(r\"hi|hello\", re.IGNORECASE),  # second check\n",
    "                lbl.previous(): cnd.regexp(r\"previous\", re.IGNORECASE),  # going to the previous visited node\n",
    "                lbl.forward(): cnd.regexp(r\"forward\", re.IGNORECASE),  # going to the next node in list\n",
    "                # lbl.previous() is equivalent to (\"PREVIOUS_flow\", \"PREVIOUS_node\")\n",
    "                lbl.repeat(): cnd.true(),  # fourth check\n",
    "                # lbl.repeat() is equivalent to (\"global_flow\", \"fallback_node\")\n",
    "            },\n",
    "        },\n",
    "    },\n",
    "    \"greeting_flow\": {\n",
    "        \"node1\": {\n",
    "            RESPONSE: \"Hi, how are you?\",  # When the agent goes to node1, we return \"Hi, how are you?\"\n",
    "            TRANSITIONS: {\n",
    "                (\"global_flow\", \"fallback_node\", 0.1): cnd.true(),  # second check\n",
    "                \"node2\": cnd.regexp(r\"how are you\"),  # first check\n",
    "                # \"node2\" is equivalent to (\"greeting_flow\", \"node2\", 1.0)\n",
    "            },\n",
    "        },\n",
    "        \"node2\": {\n",
    "            RESPONSE: \"Good. What do you want to talk about?\",\n",
    "            TRANSITIONS: {\n",
    "                lbl.to_fallback(0.1): cnd.true(),  # third check; it means going to the fallback node with 0.1 conf\n",
    "                # lbl.to_fallback(0.1) is equivalent to (\"global_flow\", \"fallback_node\", 0.1)\n",
    "                lbl.forward(0.5): cnd.regexp(r\"talk about\"),  # second check\n",
    "                # lbl.forward(0.5) is equivalent to (\"greeting_flow\", \"node3\", 0.5) - going to next node with 0.5 conf\n",
    "                (\"music_flow\", \"node1\"): cnd.regexp(r\"talk about music\"),  # first check\n",
    "                lbl.previous(): cnd.regexp(r\"previous\", re.IGNORECASE),  # third check\n",
    "                # (\"music_flow\", \"node1\") is equivalent to (\"music_flow\", \"node1\", 1.0)\n",
    "            },\n",
    "        },\n",
    "        \"node3\": {RESPONSE: \"Sorry, I can not talk about that now.\", TRANSITIONS: {lbl.forward(): cnd.regexp(r\"bye\")}},\n",
    "        \"node4\": {\n",
    "            RESPONSE: \"bye\",\n",
    "            TRANSITIONS: {\n",
    "                \"node1\": cnd.regexp(r\"hi|hello\", re.IGNORECASE),  # first check\n",
    "                lbl.to_fallback(): cnd.true(),  # second check\n",
    "            },\n",
    "        },\n",
    "    },\n",
    "    \"music_flow\": {\n",
    "        \"node1\": {\n",
    "            RESPONSE: \"I love `System of a Down` group, would you like to tell about it? \",\n",
    "            TRANSITIONS: {lbl.forward(): cnd.regexp(r\"yes|yep|ok\", re.IGNORECASE), lbl.to_fallback(): cnd.true()},\n",
    "        },\n",
    "        \"node2\": {\n",
    "            RESPONSE: \"System of a Downis an Armenian-American heavy metal band formed in in 1994.\",\n",
    "            TRANSITIONS: {\n",
    "                lbl.forward(): cnd.regexp(r\"next\", re.IGNORECASE),\n",
    "                lbl.repeat(): cnd.regexp(r\"repeat\", re.IGNORECASE),\n",
    "                lbl.to_fallback(): cnd.true(),\n",
    "            },\n",
    "        },\n",
    "        \"node3\": {\n",
    "            RESPONSE: \"The band achieved commercial success with the release of five studio albums.\",\n",
    "            TRANSITIONS: {\n",
    "                lbl.forward(): cnd.regexp(r\"next\", re.IGNORECASE),  # going to next node in dict\n",
    "                lbl.backward(): cnd.regexp(r\"back\", re.IGNORECASE),  # going to the previous node in dict\n",
    "                lbl.repeat(): cnd.regexp(r\"repeat\", re.IGNORECASE),\n",
    "                lbl.to_fallback(): cnd.true(),\n",
    "            },\n",
    "        },\n",
    "        \"node4\": {\n",
    "            RESPONSE: \"That's all what I know\",\n",
    "            TRANSITIONS: {\n",
    "                greeting_flow_n2_transition: cnd.regexp(r\"next\", re.IGNORECASE),  # second check\n",
    "                high_priority_node_transition(\"greeting_flow\", \"node4\"): cnd.regexp(r\"next time\", re.IGNORECASE),\n",
    "                lbl.to_fallback(): cnd.true(),  # third check\n",
    "            },\n",
    "        },\n",
    "    },\n",
    "}"
   ]
  },
  {
   "cell_type": "code",
   "execution_count": null,
   "metadata": {},
   "outputs": [],
   "source": [
    "from df_runner import Pipeline\n",
    "\n",
    "pipeline = Pipeline.from_script(\n",
    "    script,\n",
    "    start_label=(\"global_flow\", \"start_node\"),\n",
    "    fallback_label=(\"global_flow\", \"fallback_node\"),\n",
    ")"
   ]
  },
  {
   "cell_type": "code",
   "execution_count": null,
   "metadata": {},
   "outputs": [],
   "source": [
    "pipeline.start_sync()"
   ]
  }
 ],
 "metadata": {
  "interpreter": {
   "hash": "b1b6b32d33597829d61f85157c5aed5772f959c19090697c514061944c72115f"
  },
  "kernelspec": {
   "display_name": "Python 3 (ipykernel)",
   "language": "python",
   "name": "python3"
  },
  "language_info": {
   "codemirror_mode": {
    "name": "ipython",
    "version": 3
   },
   "file_extension": ".py",
   "mimetype": "text/x-python",
   "name": "python",
   "nbconvert_exporter": "python",
   "pygments_lexer": "ipython3",
   "version": "3.10.5"
  }
 },
 "nbformat": 4,
 "nbformat_minor": 4
}
