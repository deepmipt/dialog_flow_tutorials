{
 "cells": [
  {
   "cell_type": "markdown",
   "metadata": {},
   "source": [
    "[![Open In Colab](https://colab.research.google.com/assets/colab-badge.svg)](https://colab.research.google.com/github/deepmipt/dialog_flow_tutorialsnotebooks/11.telegram.ipynb)"
   ]
  },
  {
   "cell_type": "code",
   "execution_count": null,
   "metadata": {},
   "outputs": [],
   "source": [
    "# !pip install df_engine df_runner df_db_connector df_telegram_connector df_slots"
   ]
  },
  {
   "cell_type": "markdown",
   "metadata": {},
   "source": [
    "<img src=\"https://raw.githubusercontent.com/kudep/RDLS_images/4d1061ad112b1ba4592da0b37bb4ec5b4b032167/dfe_examples/infrastructure.svg\" >"
   ]
  },
  {
   "cell_type": "code",
   "execution_count": null,
   "metadata": {},
   "outputs": [],
   "source": [
    "import logging\n",
    "\n",
    "from df_engine import conditions as cnd\n",
    "from df_engine.core.keywords import (\n",
    "    RESPONSE,\n",
    "    TRANSITIONS,\n",
    "    PRE_TRANSITIONS_PROCESSING,\n",
    "    PRE_RESPONSE_PROCESSING,\n",
    "    GLOBAL,\n",
    "    LOCAL,\n",
    ")\n",
    "from df_engine.core import Actor\n",
    "\n",
    "import df_slots\n",
    "from df_slots import processing as slot_procs\n",
    "from df_slots import response as slot_rps\n",
    "from df_slots import conditions as slot_cnd\n",
    "\n",
    "from examples import example_utils\n",
    "\n",
    "logger = logging.getLogger(__name__)\n",
    "\n",
    "# Group 1: person/username, person/email\n",
    "person_slot = df_slots.GroupSlot(\n",
    "    name=\"person\",\n",
    "    children=[\n",
    "        df_slots.RegexpSlot(name=\"username\", regexp=r\"username is ([a-zA-Z]+)\", match_group_idx=1),\n",
    "        df_slots.RegexpSlot(name=\"email\", regexp=r\"email is ([a-z@\\.A-Z]+)\", match_group_idx=1),\n",
    "    ],\n",
    ")\n",
    "# Group 2: friend/first_name, friend/last_name\n",
    "friend_slot = df_slots.GroupSlot(\n",
    "    name=\"friend\",\n",
    "    children=[\n",
    "        df_slots.RegexpSlot(name=\"first_name\", regexp=r\"^[A-Z][a-z]+?(?= )\"),\n",
    "        df_slots.RegexpSlot(name=\"last_name\", regexp=r\"(?<= )[A-Z][a-z]+\"),\n",
    "    ],\n",
    ")\n",
    "df_slots.add_slots([person_slot, friend_slot])\n",
    "# ALTERNATE SYNTAX: you can register slots manually.\n",
    "# from df_slots import slot_types\n",
    "# username_slot = slot_types.RegexpSlot(name=\"username\", regexp=r\"(?<=username is )[a-zA-Z]+\")\n",
    "# person_slot = slot_types.GroupSlot(name=\"person\", children=[username_slot])\n",
    "# df_slots.root.register_slots([person_slot])\n",
    "\n",
    "\n",
    "script = {\n",
    "    GLOBAL: {TRANSITIONS: {(\"username_flow\", \"ask\"): cnd.regexp(r\"^[sS]tart\")}},\n",
    "    \"username_flow\": {\n",
    "        LOCAL: {\n",
    "            PRE_TRANSITIONS_PROCESSING: {\"get_slot\": slot_procs.extract([\"person/username\"])},\n",
    "            TRANSITIONS: {\n",
    "                (\"email_flow\", \"ask\", 1.2): slot_cnd.is_set_all([\"person/username\"]),\n",
    "                (\"username_flow\", \"repeat_question\", 0.8): cnd.true(),\n",
    "            },\n",
    "        },\n",
    "        \"ask\": {\n",
    "            RESPONSE: \"Write your username (my username is ...):\",\n",
    "        },\n",
    "        \"repeat_question\": {RESPONSE: \"Please, type your username again (my username is ...):\"},\n",
    "    },\n",
    "    \"email_flow\": {\n",
    "        LOCAL: {\n",
    "            PRE_TRANSITIONS_PROCESSING: {\"get_slot\": slot_procs.extract([\"person/email\"])},\n",
    "            TRANSITIONS: {\n",
    "                (\"friend_flow\", \"ask\", 1.2): slot_cnd.is_set_all([\"person/username\", \"person/email\"]),\n",
    "                (\"email_flow\", \"repeat_question\", 0.8): cnd.true(),\n",
    "            },\n",
    "        },\n",
    "        \"ask\": {\n",
    "            RESPONSE: \"Write your email (my email is ...):\",\n",
    "        },\n",
    "        \"repeat_question\": {RESPONSE: \"Please, write your email again (my email is ...):\"},\n",
    "    },\n",
    "    \"friend_flow\": {\n",
    "        LOCAL: {\n",
    "            PRE_TRANSITIONS_PROCESSING: {\"get_slots\": slot_procs.extract([\"friend\"])},\n",
    "            TRANSITIONS: {\n",
    "                (\"root\", \"utter\", 1.2): slot_cnd.is_set_any([\"friend/first_name\", \"friend/last_name\"]),\n",
    "                (\"friend_flow\", \"repeat_question\", 0.8): cnd.true(),\n",
    "            },\n",
    "        },\n",
    "        \"ask\": {RESPONSE: \"Please, name me one of your friends: (John Doe)\"},\n",
    "        \"repeat_question\": {RESPONSE: \"Please, name me one of your friends again: (John Doe)\"},\n",
    "    },\n",
    "    \"root\": {\n",
    "        \"start\": {RESPONSE: \"\", TRANSITIONS: {(\"username_flow\", \"ask\"): cnd.true()}},\n",
    "        \"fallback\": {RESPONSE: \"Finishing query\", TRANSITIONS: {(\"username_flow\", \"ask\"): cnd.true()}},\n",
    "        \"utter\": {\n",
    "            RESPONSE: slot_rps.fill_template(\"Your friend is called {friend/first_name} {friend/last_name}\"),\n",
    "            TRANSITIONS: {(\"root\", \"utter_alternative\"): cnd.true()},\n",
    "        },\n",
    "        \"utter_alternative\": {\n",
    "            RESPONSE: \"Your username is {person/username}. Your email is {person/email}.\",\n",
    "            PRE_RESPONSE_PROCESSING: {\"fill\": slot_procs.fill_template()},\n",
    "            TRANSITIONS: {(\"root\", \"fallback\"): cnd.true()},\n",
    "        },\n",
    "    },\n",
    "}\n"
   ]
  },
  {
   "cell_type": "code",
   "execution_count": null,
   "metadata": {},
   "outputs": [],
   "source": [
    "import os\n",
    "\n",
    "from df_runner import Pipeline\n",
    "\n",
    "pipeline = Pipeline.from_script(\n",
    "    script,\n",
    "    start_label=(\"root\", \"start\"),\n",
    "    fallback_label=(\"root\", \"fallback\"),\n",
    ")"
   ]
  },
  {
   "cell_type": "code",
   "execution_count": null,
   "metadata": {},
   "outputs": [],
   "source": [
    "pipeline.start_sync()"
   ]
  },
  {
   "cell_type": "code",
   "execution_count": null,
   "metadata": {},
   "outputs": [],
   "source": []
  }
 ],
 "metadata": {
  "interpreter": {
   "hash": "b1b6b32d33597829d61f85157c5aed5772f959c19090697c514061944c72115f"
  },
  "kernelspec": {
   "display_name": "Python 3 (ipykernel)",
   "language": "python",
   "name": "python3"
  },
  "language_info": {
   "codemirror_mode": {
    "name": "ipython",
    "version": 3
   },
   "file_extension": ".py",
   "mimetype": "text/x-python",
   "name": "python",
   "nbconvert_exporter": "python",
   "pygments_lexer": "ipython3",
   "version": "3.10.5"
  }
 },
 "nbformat": 4,
 "nbformat_minor": 4
}
