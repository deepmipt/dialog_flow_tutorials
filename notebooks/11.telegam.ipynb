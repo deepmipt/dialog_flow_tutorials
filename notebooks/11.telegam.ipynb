{
 "cells": [
  {
   "cell_type": "markdown",
   "metadata": {},
   "source": [
    "[![Open In Colab](https://colab.research.google.com/assets/colab-badge.svg)](https://colab.research.google.com/github/deepmipt/dialog_flow_tutorialsnotebooks/11.telegram.ipynb)"
   ]
  },
  {
   "cell_type": "code",
   "execution_count": null,
   "metadata": {},
   "outputs": [],
   "source": [
    "# !pip install df_engine df_runner df_db_connector df_telegram_connector"
   ]
  },
  {
   "cell_type": "markdown",
   "metadata": {},
   "source": [
    "<img src=\"https://raw.githubusercontent.com/kudep/RDLS_images/4d1061ad112b1ba4592da0b37bb4ec5b4b032167/dfe_examples/infrastructure.svg\" >"
   ]
  },
  {
   "cell_type": "code",
   "execution_count": null,
   "metadata": {},
   "outputs": [],
   "source": [
    "# imports\n",
    "from df_engine.core.keywords import TRANSITIONS, RESPONSE\n",
    "import df_engine.conditions as cnd\n",
    "# a dialog script\n",
    "script = {\n",
    "    \"greeting_flow\": {\n",
    "        \"start_node\": {  # This is an initial node, it doesn't need an `RESPONSE`\n",
    "            RESPONSE: \"\",\n",
    "            TRANSITIONS: {\"node1\": cnd.exact_match(\"Hi\")},  # If \"Hi\" == request of user then we make the transition\n",
    "        },\n",
    "        \"node1\": {\n",
    "            RESPONSE: \"Hi, how are you?\",  # When the agent goes to node1, we return \"Hi, how are you?\"\n",
    "            TRANSITIONS: {\"node2\": cnd.regexp(r\".*(good|fine|great).*\")},\n",
    "        },\n",
    "        \"node2\": {\n",
    "            RESPONSE: \"Good. What do you want to talk about?\",\n",
    "            TRANSITIONS: {\"node3\": cnd.regexp(r\"(music[.!]{0,1}|.*about music[.!]{0,1})\")},\n",
    "        },\n",
    "        \"node3\": {\n",
    "            RESPONSE: \"Sorry, I can not talk about music now.\",\n",
    "            TRANSITIONS: {\"node4\": cnd.exact_match(\"Ok, goodbye.\")},\n",
    "        },\n",
    "        \"node4\": {RESPONSE: \"bye\", TRANSITIONS: {\"node1\": cnd.regexp(r\".*(restart|start|start again).*\")}},\n",
    "        \"fallback_node\": {  # We get to this node if an error occurred while the agent was running\n",
    "            RESPONSE: \"Ooops\",\n",
    "            TRANSITIONS: {\"node1\": cnd.true()},\n",
    "        },\n",
    "    }\n",
    "}"
   ]
  },
  {
   "cell_type": "code",
   "execution_count": null,
   "metadata": {},
   "outputs": [],
   "source": [
    "import os\n",
    "\n",
    "from df_runner import Pipeline\n",
    "from df_telegram_connector.connector import TelegramConnector\n",
    "from df_telegram_connector.request_provider import PollingRequestProvider\n",
    "\n",
    "bot = TelegramConnector(os.getenv(\"BOT_TOKEN\", \"SOMETOKEN\"))\n",
    "db = dict()\n",
    "\n",
    "provider = PollingRequestProvider(bot=bot)\n",
    "\n",
    "pipeline = Pipeline.from_script(\n",
    "    script,\n",
    "    start_label=(\"greeting_flow\", \"start_node\"),\n",
    "    fallback_label=(\"greeting_flow\", \"fallback_node\"),\n",
    ")"
   ]
  },
  {
   "cell_type": "code",
   "execution_count": null,
   "metadata": {},
   "outputs": [],
   "source": [
    "pipeline.start_sync()"
   ]
  },
  {
   "cell_type": "code",
   "execution_count": null,
   "metadata": {},
   "outputs": [],
   "source": []
  }
 ],
 "metadata": {
  "interpreter": {
   "hash": "b1b6b32d33597829d61f85157c5aed5772f959c19090697c514061944c72115f"
  },
  "kernelspec": {
   "display_name": "Python 3 (ipykernel)",
   "language": "python",
   "name": "python3"
  },
  "language_info": {
   "codemirror_mode": {
    "name": "ipython",
    "version": 3
   },
   "file_extension": ".py",
   "mimetype": "text/x-python",
   "name": "python",
   "nbconvert_exporter": "python",
   "pygments_lexer": "ipython3",
   "version": "3.10.5"
  }
 },
 "nbformat": 4,
 "nbformat_minor": 4
}
