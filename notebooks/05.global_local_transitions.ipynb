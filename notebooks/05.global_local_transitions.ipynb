{
 "cells": [
  {
   "cell_type": "markdown",
   "metadata": {},
   "source": [
    "[![Open In Colab](https://colab.research.google.com/assets/colab-badge.svg)](https://colab.research.google.com/github/deepmipt/dialog_flow_tutorialsnotebooks/05.global_local_transitions.ipynb)"
   ]
  },
  {
   "cell_type": "code",
   "execution_count": null,
   "metadata": {},
   "outputs": [],
   "source": [
    "# !pip install df_engine df_runner df_db_connector df_telegram_connector"
   ]
  },
  {
   "cell_type": "markdown",
   "metadata": {},
   "source": [
    "<img src=\"https://raw.githubusercontent.com/kudep/RDLS_images/bba12c082827415f7d3e1ab09dfb94d68415be93/dfe_examples/script_structire.svg\" >\n",
    "<img src=\"https://raw.githubusercontent.com/kudep/RDLS_images/bba12c082827415f7d3e1ab09dfb94d68415be93/dfe_examples/node_sructire.svg\" >"
   ]
  },
  {
   "cell_type": "code",
   "execution_count": null,
   "metadata": {},
   "outputs": [],
   "source": [
    "from df_engine.core import Actor, Context\n",
    "\n",
    "def high_priority_node_transition(flow_label, label):\n",
    "    def transition(ctx: Context, actor: Actor, *args, **kwargs) -> tuple[str, str, float]:\n",
    "        return (flow_label, label, 2.0)\n",
    "\n",
    "    return transition"
   ]
  },
  {
   "cell_type": "code",
   "execution_count": null,
   "metadata": {},
   "outputs": [],
   "source": [
    "# imports\n",
    "from df_engine.core.keywords import TRANSITIONS, RESPONSE, GLOBAL\n",
    "import df_engine.conditions as cnd\n",
    "import df_engine.labels as lbl\n",
    "import re\n",
    "\n",
    "script = {\n",
    "    GLOBAL: {\n",
    "        TRANSITIONS: {\n",
    "            (\"greeting_flow\", \"node1\", 1.1): cnd.regexp(r\"\\b(hi|hello)\\b\", re.I),\n",
    "            (\"music_flow\", \"node1\", 1.1): cnd.regexp(r\"talk about music\"),\n",
    "            lbl.to_fallback(0.1): cnd.true(),\n",
    "            lbl.forward(): cnd.all(\n",
    "                [cnd.regexp(r\"next\\b\"), cnd.has_last_labels(labels=[(\"music_flow\", i) for i in [\"node2\", \"node3\"]])]\n",
    "            ),\n",
    "            lbl.repeat(0.2): cnd.all(\n",
    "                [cnd.regexp(r\"repeat\", re.I), cnd.negation(cnd.has_last_labels(flow_labels=[\"global_flow\"]))]\n",
    "            ),\n",
    "        }\n",
    "    },\n",
    "    \"global_flow\": {\n",
    "        \"start_node\": {RESPONSE: \"\"},  # This is an initial node, it doesn't need an `RESPONSE`\n",
    "        \"fallback_node\": {  # We get to this node if an error occurred while the agent was running\n",
    "            RESPONSE: \"Ooops\",\n",
    "            TRANSITIONS: {lbl.previous(): cnd.regexp(r\"previous\", re.I)},\n",
    "        },\n",
    "    },\n",
    "    \"greeting_flow\": {\n",
    "        \"node1\": {\n",
    "            RESPONSE: \"Hi, how are you?\",  # When the agent goes to node1, we return \"Hi, how are you?\"\n",
    "            TRANSITIONS: {\"node2\": cnd.regexp(r\"how are you\")},\n",
    "        },\n",
    "        \"node2\": {\n",
    "            RESPONSE: \"Good. What do you want to talk about?\",\n",
    "            TRANSITIONS: {lbl.forward(0.5): cnd.regexp(r\"talk about\"), lbl.previous(): cnd.regexp(r\"previous\", re.I)},\n",
    "        },\n",
    "        \"node3\": {RESPONSE: \"Sorry, I can not talk about that now.\", TRANSITIONS: {lbl.forward(): cnd.regexp(r\"bye\")}},\n",
    "        \"node4\": {RESPONSE: \"bye\"},\n",
    "    },\n",
    "    \"music_flow\": {\n",
    "        \"node1\": {\n",
    "            RESPONSE: \"I love `System of a Down` group, would you like to tell about it? \",\n",
    "            TRANSITIONS: {lbl.forward(): cnd.regexp(r\"yes|yep|ok\", re.I)},\n",
    "        },\n",
    "        \"node2\": {RESPONSE: \"System of a Downis an Armenian-American heavy metal band formed in in 1994.\"},\n",
    "        \"node3\": {\n",
    "            RESPONSE: \"The band achieved commercial success with the release of five studio albums.\",\n",
    "            TRANSITIONS: {lbl.backward(): cnd.regexp(r\"back\", re.I)},\n",
    "        },\n",
    "        \"node4\": {\n",
    "            RESPONSE: \"That's all what I know\",\n",
    "            TRANSITIONS: {\n",
    "                (\"greeting_flow\", \"node4\"): cnd.regexp(r\"next time\", re.I),\n",
    "                (\"greeting_flow\", \"node2\"): cnd.regexp(r\"next\", re.I),\n",
    "            },\n",
    "        },\n",
    "    },\n",
    "}\n"
   ]
  },
  {
   "cell_type": "code",
   "execution_count": null,
   "metadata": {},
   "outputs": [],
   "source": [
    "from df_runner import Pipeline\n",
    "\n",
    "pipeline = Pipeline.from_script(\n",
    "    script,\n",
    "    start_label=(\"global_flow\", \"start_node\"),\n",
    "    fallback_label=(\"global_flow\", \"fallback_node\"),\n",
    ")"
   ]
  },
  {
   "cell_type": "code",
   "execution_count": null,
   "metadata": {},
   "outputs": [],
   "source": [
    "pipeline.start_sync()"
   ]
  }
 ],
 "metadata": {
  "interpreter": {
   "hash": "b1b6b32d33597829d61f85157c5aed5772f959c19090697c514061944c72115f"
  },
  "kernelspec": {
   "display_name": "Python 3 (ipykernel)",
   "language": "python",
   "name": "python3"
  },
  "language_info": {
   "codemirror_mode": {
    "name": "ipython",
    "version": 3
   },
   "file_extension": ".py",
   "mimetype": "text/x-python",
   "name": "python",
   "nbconvert_exporter": "python",
   "pygments_lexer": "ipython3",
   "version": "3.10.5"
  }
 },
 "nbformat": 4,
 "nbformat_minor": 4
}
